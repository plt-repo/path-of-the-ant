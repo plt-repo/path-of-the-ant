{
 "cells": [
  {
   "cell_type": "markdown",
   "metadata": {},
   "source": [
    "Для решения задачи используется алгоритм поиска в ширину (BFS - Breadth-First Search). Алгоритм BFS обходит граф (или в данном случае, сетку) по слоям, начиная с исходной вершины (в данном случае, начальная позиция муравья) и расширяясь на все ближайшие вершины перед тем, как перейти к следующему слою.\n",
    "\n",
    "В контексте задачи, каждая клетка считается вершиной графа, и BFS используется для определения, какие клетки могут быть достигнуты муравьем.\n",
    "\n",
    "***\n",
    "\n",
    "P.S Почему решил не рисовать на canvas? При реализации решения ориентировался на удобство просмотра результата, без необходимости скачивания исходников и их запуска.\n",
    "\n",
    "Решение представлено ниже."
   ]
  },
  {
   "cell_type": "markdown",
   "metadata": {},
   "source": [
    "#### Импортируем необхомые зависимости"
   ]
  },
  {
   "cell_type": "code",
   "execution_count": 6,
   "metadata": {},
   "outputs": [],
   "source": [
    "# coding=utf-8\n",
    "from typing import Tuple\n",
    "import matplotlib.pyplot as plt\n",
    "%matplotlib inline"
   ]
  },
  {
   "cell_type": "markdown",
   "metadata": {},
   "source": [
    "#### Реализация вспомогательных функций"
   ]
  },
  {
   "cell_type": "code",
   "execution_count": 7,
   "metadata": {},
   "outputs": [],
   "source": [
    "def draw_grid(size):\n",
    "    # type: (int) -> list\n",
    "    \"\"\"\n",
    "    Создание двумерного массива для представления координатной сетки.\n",
    "    :param size: Размер сетки\n",
    "    \"\"\"\n",
    "    return [[1] * size for _ in range(size)]\n",
    "\n",
    "\n",
    "def calculate_digit_sum(number):\n",
    "    # type: (int) -> int\n",
    "    \"\"\"\n",
    "    Функция для вычисления суммы цифр числа.\n",
    "    :param number: Число\n",
    "    \"\"\"\n",
    "    return sum(map(int, str(number)))\n",
    "\n",
    "\n",
    "def is_step_available(x, y):\n",
    "    # type: (int, int) -> bool\n",
    "    \"\"\"\n",
    "    Проверка, доступна ли клетка для муравья.\n",
    "    :param x: Расположение клетки по координате x\n",
    "    :param y: Расположение клетки по координате y\n",
    "    \"\"\"\n",
    "    return calculate_digit_sum(x) + calculate_digit_sum(y) <= 25"
   ]
  },
  {
   "cell_type": "markdown",
   "metadata": {},
   "source": [
    "#### Реализация функции расчёта доступных для муравья клеток"
   ]
  },
  {
   "cell_type": "code",
   "execution_count": 8,
   "metadata": {},
   "outputs": [],
   "source": [
    "def calculate_ant_way(start_position, grid_size):\n",
    "    # type: (Tuple[int, int], int) -> Tuple[list, int]\n",
    "    \"\"\"\n",
    "    Функция для расчёта доступных для муравья клеток, согласно условиям задачи.\n",
    "    :param start_position: Стартовая позиция муравья по координатам x, y\n",
    "    :param grid_size: Размер сетки по которой муравей будет ходить\n",
    "    :return: Сетка с отмеченными доступными шагами муравья, Кол-во клеток в которые может сходить муравей\n",
    "    \"\"\"\n",
    "    grid = draw_grid(grid_size)\n",
    "    ant_available_positions_cnt = 0\n",
    "\n",
    "    # Очерёдность шагов для обхода клеток\n",
    "    steps_queue = [start_position]\n",
    "\n",
    "    while steps_queue:\n",
    "        x, y = steps_queue.pop(0)\n",
    "\n",
    "        # Проверка, доступна ли текущая клетка\n",
    "        if is_step_available(x, y) and grid[x][y] == 1:\n",
    "            # Клетка доступна, устанавливаем значение 0 в массиве и \n",
    "            # инкрементируем счётчик кол-ва доступных клеток\n",
    "            grid[x][y] = 0\n",
    "            ant_available_positions_cnt += 1\n",
    "\n",
    "            # Добавляем соседние клетки в очередь для дальнейшего обхода\n",
    "            steps_queue.append((x + 1, y))\n",
    "            steps_queue.append((x - 1, y))\n",
    "            steps_queue.append((x, y + 1))\n",
    "            steps_queue.append((x, y - 1))\n",
    "\n",
    "    return grid, ant_available_positions_cnt"
   ]
  },
  {
   "cell_type": "markdown",
   "metadata": {},
   "source": [
    "#### Расчёт доступного пути для муравья"
   ]
  },
  {
   "cell_type": "code",
   "execution_count": 9,
   "metadata": {},
   "outputs": [],
   "source": [
    "# Начальная позиция муравья и размер сетки\n",
    "ant_start_position_x_y = (1000, 1000)\n",
    "grid_size = 2000\n",
    "\n",
    "# Вызываем функцию расчёта доступных для муравья клеток\n",
    "result_grid, ant_available_positions_cnt = calculate_ant_way(ant_start_position_x_y, grid_size)"
   ]
  },
  {
   "cell_type": "markdown",
   "metadata": {},
   "source": [
    "#### Отрисовка графика с результатами"
   ]
  },
  {
   "cell_type": "code",
   "execution_count": 10,
   "metadata": {},
   "outputs": [
    {
     "data": {
      "image/png": "[encoded data removed]",
      "text/plain": [
       "<Figure size 720x720 with 1 Axes>"
      ]
     },
     "metadata": {
      "needs_background": "light"
     },
     "output_type": "display_data"
    }
   ],
   "source": [
    "# Устанавливаем размер фигуры\n",
    "plt.figure(figsize=(10, 10))\n",
    "# Устанавливаем заголовок графика\n",
    "plt.title(u'Количество клеток которое может посетить муравей = {0}'.format(ant_available_positions_cnt))\n",
    "# Рисуем и показываем график\n",
    "plt.imshow(result_grid, cmap='gray', origin='lower')\n",
    "plt.show()"
   ]
  }
 ],
 "metadata": {
  "kernelspec": {
   "display_name": "Python 2",
   "language": "python",
   "name": "python2"
  },
  "language_info": {
   "codemirror_mode": {
    "name": "ipython",
    "version": 2
   },
   "file_extension": ".py",
   "mimetype": "text/x-python",
   "name": "python",
   "nbconvert_exporter": "python",
   "pygments_lexer": "ipython2",
   "version": "2.7.18"
  }
 },
 "nbformat": 4,
 "nbformat_minor": 2
}
